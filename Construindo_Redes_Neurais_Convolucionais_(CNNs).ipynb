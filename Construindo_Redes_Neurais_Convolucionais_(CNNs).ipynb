{
  "nbformat": 4,
  "nbformat_minor": 0,
  "metadata": {
    "colab": {
      "provenance": [],
      "include_colab_link": true
    },
    "kernelspec": {
      "name": "python3",
      "display_name": "Python 3"
    }
  },
  "cells": [
    {
      "cell_type": "markdown",
      "metadata": {
        "id": "view-in-github",
        "colab_type": "text"
      },
      "source": [
        "<a href=\"https://colab.research.google.com/github/Ana138/data_mining_aplicada/blob/main/Construindo_Redes_Neurais_Convolucionais_(CNNs).ipynb\" target=\"_parent\"><img src=\"https://colab.research.google.com/assets/colab-badge.svg\" alt=\"Open In Colab\"/></a>"
      ]
    },
    {
      "cell_type": "markdown",
      "metadata": {
        "id": "LliqnvsLv8G4"
      },
      "source": [
        "# Instalação"
      ]
    },
    {
      "cell_type": "code",
      "metadata": {
        "id": "hPSs-8FdxHNF",
        "colab": {
          "base_uri": "https://localhost:8080/"
        },
        "outputId": "a3635224-012d-4239-bb4f-c2dc6389d7e8"
      },
      "source": [
        "# Installing TensorFlow\n",
        "! pip install -q tensorflow-gpu"
      ],
      "execution_count": 3,
      "outputs": [
        {
          "output_type": "stream",
          "name": "stdout",
          "text": [
            "  \u001b[1;31merror\u001b[0m: \u001b[1msubprocess-exited-with-error\u001b[0m\n",
            "  \n",
            "  \u001b[31m×\u001b[0m \u001b[32mpython setup.py egg_info\u001b[0m did not run successfully.\n",
            "  \u001b[31m│\u001b[0m exit code: \u001b[1;36m1\u001b[0m\n",
            "  \u001b[31m╰─>\u001b[0m See above for output.\n",
            "  \n",
            "  \u001b[1;35mnote\u001b[0m: This error originates from a subprocess, and is likely not a problem with pip.\n",
            "  Preparing metadata (setup.py) ... \u001b[?25l\u001b[?25herror\n",
            "\u001b[1;31merror\u001b[0m: \u001b[1mmetadata-generation-failed\u001b[0m\n",
            "\n",
            "\u001b[31m×\u001b[0m Encountered error while generating package metadata.\n",
            "\u001b[31m╰─>\u001b[0m See above for output.\n",
            "\n",
            "\u001b[1;35mnote\u001b[0m: This is an issue with the package mentioned above, not pip.\n",
            "\u001b[1;36mhint\u001b[0m: See above for details.\n"
          ]
        }
      ]
    },
    {
      "cell_type": "code",
      "metadata": {
        "id": "qL579D-2yI_h",
        "colab": {
          "base_uri": "https://localhost:8080/"
        },
        "outputId": "40cc1ccc-952c-4c0f-84a8-c5687e64256a"
      },
      "source": [
        "import tensorflow as tf\n",
        "print(tf.__version__)"
      ],
      "execution_count": 4,
      "outputs": [
        {
          "output_type": "stream",
          "name": "stdout",
          "text": [
            "2.12.0\n"
          ]
        }
      ]
    },
    {
      "cell_type": "code",
      "metadata": {
        "id": "dD5Q9rozyRjM"
      },
      "source": [
        "import numpy as np\n",
        "import pandas as pd\n",
        "import matplotlib.pyplot as plt"
      ],
      "execution_count": 5,
      "outputs": []
    },
    {
      "cell_type": "markdown",
      "metadata": {
        "id": "7kQ_nSEgyse9"
      },
      "source": [
        "# Classificando meus dados"
      ]
    },
    {
      "cell_type": "code",
      "metadata": {
        "id": "vwWJyC3oyv5s"
      },
      "source": [
        "# Importando o dataset\n",
        "from tensorflow.keras.datasets import cifar10"
      ],
      "execution_count": 6,
      "outputs": []
    },
    {
      "cell_type": "code",
      "metadata": {
        "id": "ZkqF3-oYzhOR",
        "colab": {
          "base_uri": "https://localhost:8080/"
        },
        "outputId": "f2c8088b-0653-4f54-9938-acc6f01e0471"
      },
      "source": [
        "# Carrecango o dataset\n",
        "(x_train, y_train), (x_test, y_test) = cifar10.load_data()"
      ],
      "execution_count": 7,
      "outputs": [
        {
          "output_type": "stream",
          "name": "stdout",
          "text": [
            "Downloading data from https://www.cs.toronto.edu/~kriz/cifar-10-python.tar.gz\n",
            "170498071/170498071 [==============================] - 11s 0us/step\n"
          ]
        }
      ]
    },
    {
      "cell_type": "code",
      "metadata": {
        "id": "ApRhZDR90XbS"
      },
      "source": [
        "class_names = ['0: airplane', '1: automobile', '2: bird', '3: cat', '4: deer', '5: dog', '6: frog', '7: horse', '8: ship', '9: truck']"
      ],
      "execution_count": 8,
      "outputs": []
    },
    {
      "cell_type": "markdown",
      "source": [],
      "metadata": {
        "id": "9hEPajnRRnZe"
      }
    },
    {
      "cell_type": "code",
      "metadata": {
        "id": "_1GtGB7C0fo6",
        "colab": {
          "base_uri": "https://localhost:8080/"
        },
        "outputId": "b69c35c7-5277-43ac-c2e1-c54470c34661"
      },
      "source": [
        "print(class_names)"
      ],
      "execution_count": 9,
      "outputs": [
        {
          "output_type": "stream",
          "name": "stdout",
          "text": [
            "['0: airplane', '1: automobile', '2: bird', '3: cat', '4: deer', '5: dog', '6: frog', '7: horse', '8: ship', '9: truck']\n"
          ]
        }
      ]
    },
    {
      "cell_type": "code",
      "metadata": {
        "id": "HnddwiOj0pNb",
        "colab": {
          "base_uri": "https://localhost:8080/"
        },
        "outputId": "92a65bf0-080c-4dfd-b194-09ab8eb09197"
      },
      "source": [
        "x_train.max(), x_train.min(), x_train.mean()"
      ],
      "execution_count": 10,
      "outputs": [
        {
          "output_type": "execute_result",
          "data": {
            "text/plain": [
              "(255, 0, 120.70756512369792)"
            ]
          },
          "metadata": {},
          "execution_count": 10
        }
      ]
    },
    {
      "cell_type": "code",
      "metadata": {
        "id": "yZQNvNT308Oz",
        "colab": {
          "base_uri": "https://localhost:8080/"
        },
        "outputId": "c411ae5f-8dce-4864-e0d6-f6ef4d0b68b9"
      },
      "source": [
        "y_train.max(), y_train.min()"
      ],
      "execution_count": 11,
      "outputs": [
        {
          "output_type": "execute_result",
          "data": {
            "text/plain": [
              "(9, 0)"
            ]
          },
          "metadata": {},
          "execution_count": 11
        }
      ]
    },
    {
      "cell_type": "code",
      "metadata": {
        "id": "XAtkBZJk1DBO",
        "colab": {
          "base_uri": "https://localhost:8080/"
        },
        "outputId": "2c27c1ed-6966-41f3-956a-e512724a35aa"
      },
      "source": [
        "class_names"
      ],
      "execution_count": 12,
      "outputs": [
        {
          "output_type": "execute_result",
          "data": {
            "text/plain": [
              "['0: airplane',\n",
              " '1: automobile',\n",
              " '2: bird',\n",
              " '3: cat',\n",
              " '4: deer',\n",
              " '5: dog',\n",
              " '6: frog',\n",
              " '7: horse',\n",
              " '8: ship',\n",
              " '9: truck']"
            ]
          },
          "metadata": {},
          "execution_count": 12
        }
      ]
    },
    {
      "cell_type": "code",
      "metadata": {
        "id": "lC56KF2E1REr"
      },
      "source": [
        "# Normalizando minhas imagens\n",
        "x_train = x_train / 255.0\n",
        "x_test = x_test / 255.0"
      ],
      "execution_count": 13,
      "outputs": []
    },
    {
      "cell_type": "code",
      "metadata": {
        "id": "iqk32dB_1oEb",
        "colab": {
          "base_uri": "https://localhost:8080/"
        },
        "outputId": "3950e121-8fa5-440f-be81-87398d26043c"
      },
      "source": [
        "x_train.max(), x_train.min(), x_train.mean()"
      ],
      "execution_count": 14,
      "outputs": [
        {
          "output_type": "execute_result",
          "data": {
            "text/plain": [
              "(1.0, 0.0, 0.4733630004850874)"
            ]
          },
          "metadata": {},
          "execution_count": 14
        }
      ]
    },
    {
      "cell_type": "code",
      "metadata": {
        "id": "iYLZJt4f199h",
        "colab": {
          "base_uri": "https://localhost:8080/"
        },
        "outputId": "d00a1ea9-bb76-4aa1-dc40-8317b953953b"
      },
      "source": [
        "x_train.shape, x_test.shape"
      ],
      "execution_count": 15,
      "outputs": [
        {
          "output_type": "execute_result",
          "data": {
            "text/plain": [
              "((50000, 32, 32, 3), (10000, 32, 32, 3))"
            ]
          },
          "metadata": {},
          "execution_count": 15
        }
      ]
    },
    {
      "cell_type": "code",
      "metadata": {
        "id": "nULJtIqi2Vtr",
        "colab": {
          "base_uri": "https://localhost:8080/",
          "height": 447
        },
        "outputId": "a57a0760-d42a-42c2-b318-dbf3e428f0f3"
      },
      "source": [
        "plt.imshow(x_train[1030])"
      ],
      "execution_count": 47,
      "outputs": [
        {
          "output_type": "execute_result",
          "data": {
            "text/plain": [
              "<matplotlib.image.AxesImage at 0x7ff8a333a8f0>"
            ]
          },
          "metadata": {},
          "execution_count": 47
        },
        {
          "output_type": "display_data",
          "data": {
            "text/plain": [
              "<Figure size 640x480 with 1 Axes>"
            ],
            "image/png": "[encoded data removed]"
          },
          "metadata": {}
        }
      ]
    },
    {
      "cell_type": "code",
      "metadata": {
        "id": "oqbhnulY2eqC",
        "colab": {
          "base_uri": "https://localhost:8080/"
        },
        "outputId": "24323254-7058-4678-b016-642d81b81cdd"
      },
      "source": [
        "y_train[1030]"
      ],
      "execution_count": 48,
      "outputs": [
        {
          "output_type": "execute_result",
          "data": {
            "text/plain": [
              "array([3], dtype=uint8)"
            ]
          },
          "metadata": {},
          "execution_count": 48
        }
      ]
    },
    {
      "cell_type": "code",
      "metadata": {
        "id": "ixVsYIGh2isd",
        "colab": {
          "base_uri": "https://localhost:8080/"
        },
        "outputId": "98898601-b6d4-4755-b671-5a59413834a3"
      },
      "source": [
        "class_names"
      ],
      "execution_count": 18,
      "outputs": [
        {
          "output_type": "execute_result",
          "data": {
            "text/plain": [
              "['0: airplane',\n",
              " '1: automobile',\n",
              " '2: bird',\n",
              " '3: cat',\n",
              " '4: deer',\n",
              " '5: dog',\n",
              " '6: frog',\n",
              " '7: horse',\n",
              " '8: ship',\n",
              " '9: truck']"
            ]
          },
          "metadata": {},
          "execution_count": 18
        }
      ]
    },
    {
      "cell_type": "code",
      "source": [
        "plt.imshow(x_train[1000])"
      ],
      "metadata": {
        "colab": {
          "base_uri": "https://localhost:8080/",
          "height": 447
        },
        "id": "W6Csu6KXX12N",
        "outputId": "5a9f31b4-6246-4519-a8ce-6c6bd135243a"
      },
      "execution_count": 19,
      "outputs": [
        {
          "output_type": "execute_result",
          "data": {
            "text/plain": [
              "<matplotlib.image.AxesImage at 0x7ff89ebf1180>"
            ]
          },
          "metadata": {},
          "execution_count": 19
        },
        {
          "output_type": "display_data",
          "data": {
            "text/plain": [
              "<Figure size 640x480 with 1 Axes>"
            ],
            "image/png": "[encoded data removed]"
          },
          "metadata": {}
        }
      ]
    },
    {
      "cell_type": "code",
      "source": [
        "y_train[1000]"
      ],
      "metadata": {
        "colab": {
          "base_uri": "https://localhost:8080/"
        },
        "id": "g93YvRy9X5St",
        "outputId": "e535249d-4b24-44b2-c137-0287aa1f2d03"
      },
      "execution_count": 20,
      "outputs": [
        {
          "output_type": "execute_result",
          "data": {
            "text/plain": [
              "array([9], dtype=uint8)"
            ]
          },
          "metadata": {},
          "execution_count": 20
        }
      ]
    },
    {
      "cell_type": "markdown",
      "metadata": {
        "id": "DvrxiGmU3med"
      },
      "source": [
        "# Construindo CNN"
      ]
    },
    {
      "cell_type": "code",
      "metadata": {
        "id": "-aTAPWYa3pHc"
      },
      "source": [
        "# Definindo meus objetos\n",
        "model = tf.keras.models.Sequential()\n"
      ],
      "execution_count": 21,
      "outputs": []
    },
    {
      "cell_type": "code",
      "metadata": {
        "id": "g3UAORGz6vlt"
      },
      "source": [
        "# Add first CCN layer\n",
        "# 1) filters (kernel) = 32\n",
        "# 2) kernal size = 3\n",
        "# 3) padding = same\n",
        "# 4) activation = ReLU\n",
        "# 5) input shape = (32, 32, 3)\n",
        "\n",
        "model.add(tf.keras.layers.Conv2D(filters=32, kernel_size=3, padding='same', activation='relu', input_shape = [32, 32, 3]))"
      ],
      "execution_count": 22,
      "outputs": []
    },
    {
      "cell_type": "code",
      "metadata": {
        "id": "DkvH1Wsd-gg1"
      },
      "source": [
        "# Adding second CNN layer and maxpool layer\n",
        "# 1) filters (kernel) = 32\n",
        "# 2) kernal size = 3\n",
        "# 3) padding = same\n",
        "# 4) activation = ReLU\n",
        "\n",
        "model.add(tf.keras.layers.Conv2D(filters=32, kernel_size=3, padding='same', activation='relu'))\n",
        "\n",
        "# maxpool layer parameters,\n",
        "# 1) pool size = 2\n",
        "# 2) strides = 2\n",
        "# 3) padding = valid\n",
        "\n",
        "model.add(tf.keras.layers.MaxPool2D(pool_size=2, strides=2, padding='valid'))"
      ],
      "execution_count": 23,
      "outputs": []
    },
    {
      "cell_type": "code",
      "metadata": {
        "id": "jItDE9R4_8eH"
      },
      "source": [
        "# Adding third CNN layer\n",
        "# 1) filters (kernel) = 64\n",
        "# 2) kernal size = 3\n",
        "# 3) padding = same\n",
        "# 4) activation = ReLU\n",
        "\n",
        "model.add(tf.keras.layers.Conv2D(filters=64, kernel_size=3, padding='same', activation='relu'))"
      ],
      "execution_count": 24,
      "outputs": []
    },
    {
      "cell_type": "code",
      "metadata": {
        "id": "fPB9MkbYARpN"
      },
      "source": [
        "# Adding fourth CNN layer and maxpool layer\n",
        "# 1) filters (kernel) = 64\n",
        "# 2) kernal size = 3\n",
        "# 3) padding = same\n",
        "# 4) activation = ReLU\n",
        "\n",
        "model.add(tf.keras.layers.Conv2D(filters=64, kernel_size=3, padding='same', activation='relu'))\n",
        "\n",
        "# maxpool layer parameters,\n",
        "# 1) pool size = 2\n",
        "# 2) strides = 2\n",
        "# 3) padding = valid\n",
        "\n",
        "model.add(tf.keras.layers.MaxPool2D(pool_size=2, strides=2, padding='valid'))"
      ],
      "execution_count": 25,
      "outputs": []
    },
    {
      "cell_type": "code",
      "metadata": {
        "id": "d3HfHnUUAlhP"
      },
      "source": [
        "# Adding the dropout layer\n",
        "model.add(tf.keras.layers.Dropout(0.4))"
      ],
      "execution_count": 26,
      "outputs": []
    },
    {
      "cell_type": "code",
      "metadata": {
        "id": "688TSDyFBAnB"
      },
      "source": [
        "# Adding the Flattening layer\n",
        "model.add(tf.keras.layers.Flatten())"
      ],
      "execution_count": 27,
      "outputs": []
    },
    {
      "cell_type": "code",
      "metadata": {
        "id": "KTJC_fwIBWbc"
      },
      "source": [
        "# Adding first dense layer\n",
        "model.add(tf.keras.layers.Dense(units=128, activation='relu'))"
      ],
      "execution_count": 28,
      "outputs": []
    },
    {
      "cell_type": "code",
      "metadata": {
        "id": "fX9Isc8BBmCQ"
      },
      "source": [
        "# Adding second dense layer (output layer)\n",
        "model.add(tf.keras.layers.Dense(units=10, activation='softmax'))"
      ],
      "execution_count": 29,
      "outputs": []
    },
    {
      "cell_type": "code",
      "metadata": {
        "id": "fE-_GDQ1CYP0",
        "colab": {
          "base_uri": "https://localhost:8080/"
        },
        "outputId": "62b11472-8d63-481f-ef31-64aef5d355bb"
      },
      "source": [
        "model.summary()"
      ],
      "execution_count": 30,
      "outputs": [
        {
          "output_type": "stream",
          "name": "stdout",
          "text": [
            "Model: \"sequential\"\n",
            "_________________________________________________________________\n",
            " Layer (type)                Output Shape              Param #   \n",
            "=================================================================\n",
            " conv2d (Conv2D)             (None, 32, 32, 32)        896       \n",
            "                                                                 \n",
            " conv2d_1 (Conv2D)           (None, 32, 32, 32)        9248      \n",
            "                                                                 \n",
            " max_pooling2d (MaxPooling2D  (None, 16, 16, 32)       0         \n",
            " )                                                               \n",
            "                                                                 \n",
            " conv2d_2 (Conv2D)           (None, 16, 16, 64)        18496     \n",
            "                                                                 \n",
            " conv2d_3 (Conv2D)           (None, 16, 16, 64)        36928     \n",
            "                                                                 \n",
            " max_pooling2d_1 (MaxPooling  (None, 8, 8, 64)         0         \n",
            " 2D)                                                             \n",
            "                                                                 \n",
            " dropout (Dropout)           (None, 8, 8, 64)          0         \n",
            "                                                                 \n",
            " flatten (Flatten)           (None, 4096)              0         \n",
            "                                                                 \n",
            " dense (Dense)               (None, 128)               524416    \n",
            "                                                                 \n",
            " dense_1 (Dense)             (None, 10)                1290      \n",
            "                                                                 \n",
            "=================================================================\n",
            "Total params: 591,274\n",
            "Trainable params: 591,274\n",
            "Non-trainable params: 0\n",
            "_________________________________________________________________\n"
          ]
        }
      ]
    },
    {
      "cell_type": "markdown",
      "metadata": {
        "id": "yVf95HNZOcnm"
      },
      "source": [
        "# Treinando meu modelo"
      ]
    },
    {
      "cell_type": "code",
      "metadata": {
        "id": "SMfBwuD8ZF68"
      },
      "source": [
        "# Compilando o modelo\n",
        "model.compile(loss='sparse_categorical_crossentropy', optimizer='adam', metrics=['sparse_categorical_accuracy'])\n"
      ],
      "execution_count": 31,
      "outputs": []
    },
    {
      "cell_type": "code",
      "metadata": {
        "id": "aR5E1IhUbTeT",
        "colab": {
          "base_uri": "https://localhost:8080/"
        },
        "outputId": "bf050fea-633d-4c41-82e4-19b48a54edfb"
      },
      "source": [
        "model.fit(x_train, y_train, batch_size=10, epochs=10)"
      ],
      "execution_count": 32,
      "outputs": [
        {
          "output_type": "stream",
          "name": "stdout",
          "text": [
            "Epoch 1/10\n",
            "5000/5000 [==============================] - 362s 72ms/step - loss: 1.4360 - sparse_categorical_accuracy: 0.4778\n",
            "Epoch 2/10\n",
            "5000/5000 [==============================] - 358s 72ms/step - loss: 1.0251 - sparse_categorical_accuracy: 0.6361\n",
            "Epoch 3/10\n",
            "5000/5000 [==============================] - 359s 72ms/step - loss: 0.8836 - sparse_categorical_accuracy: 0.6898\n",
            "Epoch 4/10\n",
            "5000/5000 [==============================] - 359s 72ms/step - loss: 0.7880 - sparse_categorical_accuracy: 0.7233\n",
            "Epoch 5/10\n",
            "5000/5000 [==============================] - 359s 72ms/step - loss: 0.7229 - sparse_categorical_accuracy: 0.7450\n",
            "Epoch 6/10\n",
            "5000/5000 [==============================] - 359s 72ms/step - loss: 0.6674 - sparse_categorical_accuracy: 0.7661\n",
            "Epoch 7/10\n",
            "5000/5000 [==============================] - 360s 72ms/step - loss: 0.6242 - sparse_categorical_accuracy: 0.7807\n",
            "Epoch 8/10\n",
            "5000/5000 [==============================] - 359s 72ms/step - loss: 0.5861 - sparse_categorical_accuracy: 0.7933\n",
            "Epoch 9/10\n",
            "5000/5000 [==============================] - 363s 73ms/step - loss: 0.5598 - sparse_categorical_accuracy: 0.8028\n",
            "Epoch 10/10\n",
            "5000/5000 [==============================] - 354s 71ms/step - loss: 0.5315 - sparse_categorical_accuracy: 0.8129\n"
          ]
        },
        {
          "output_type": "execute_result",
          "data": {
            "text/plain": [
              "<keras.callbacks.History at 0x7ff8a2ba5810>"
            ]
          },
          "metadata": {},
          "execution_count": 32
        }
      ]
    },
    {
      "cell_type": "markdown",
      "metadata": {
        "id": "-CES4RsyqZeO"
      },
      "source": [
        "# Avaliando a previsão do modelo"
      ]
    },
    {
      "cell_type": "code",
      "metadata": {
        "id": "rR0Jp6C-qdT9",
        "colab": {
          "base_uri": "https://localhost:8080/"
        },
        "outputId": "59c2fc83-676f-4094-c4dd-3061ce33c057"
      },
      "source": [
        "test_loss, test_acc = model.evaluate(x_test, y_test)"
      ],
      "execution_count": 33,
      "outputs": [
        {
          "output_type": "stream",
          "name": "stdout",
          "text": [
            "313/313 [==============================] - 32s 100ms/step - loss: 0.7375 - sparse_categorical_accuracy: 0.7547\n"
          ]
        }
      ]
    },
    {
      "cell_type": "code",
      "metadata": {
        "id": "HBj0RaEKrV9t",
        "colab": {
          "base_uri": "https://localhost:8080/"
        },
        "outputId": "e27870f2-9a53-4680-85f6-846ff36d0413"
      },
      "source": [
        "print('Test Accuracy is: {}'.format(test_acc))"
      ],
      "execution_count": 34,
      "outputs": [
        {
          "output_type": "stream",
          "name": "stdout",
          "text": [
            "Test Accuracy is: 0.7547000050544739\n"
          ]
        }
      ]
    },
    {
      "cell_type": "code",
      "source": [
        "y_pred=model.predict(x_test)"
      ],
      "metadata": {
        "colab": {
          "base_uri": "https://localhost:8080/"
        },
        "id": "uDnIOCdSagLj",
        "outputId": "ab4eee50-3d10-4609-c36a-c194b3e9452b"
      },
      "execution_count": 35,
      "outputs": [
        {
          "output_type": "stream",
          "name": "stdout",
          "text": [
            "313/313 [==============================] - 15s 49ms/step\n"
          ]
        }
      ]
    },
    {
      "cell_type": "code",
      "source": [
        "y_pred[2]"
      ],
      "metadata": {
        "colab": {
          "base_uri": "https://localhost:8080/"
        },
        "id": "Tb7Qbbw6asV3",
        "outputId": "1eb5ba38-6274-4741-dda1-0ed6ef277b7d"
      },
      "execution_count": 36,
      "outputs": [
        {
          "output_type": "execute_result",
          "data": {
            "text/plain": [
              "array([0.286542  , 0.0548651 , 0.00796035, 0.10001905, 0.02865198,\n",
              "       0.00631562, 0.01068039, 0.00950819, 0.39629695, 0.09916042],\n",
              "      dtype=float32)"
            ]
          },
          "metadata": {},
          "execution_count": 36
        }
      ]
    },
    {
      "cell_type": "code",
      "source": [
        "plt.imshow(x_test[2])"
      ],
      "metadata": {
        "colab": {
          "base_uri": "https://localhost:8080/",
          "height": 447
        },
        "id": "LcVvjQgfaxfL",
        "outputId": "ed46d0d5-1f2e-49a9-c771-33a546788df5"
      },
      "execution_count": 37,
      "outputs": [
        {
          "output_type": "execute_result",
          "data": {
            "text/plain": [
              "<matplotlib.image.AxesImage at 0x7ff8a34c7910>"
            ]
          },
          "metadata": {},
          "execution_count": 37
        },
        {
          "output_type": "display_data",
          "data": {
            "text/plain": [
              "<Figure size 640x480 with 1 Axes>"
            ],
            "image/png": "[encoded data removed]"
          },
          "metadata": {}
        }
      ]
    },
    {
      "cell_type": "code",
      "source": [
        "y_pred=[np.argmax(y) for y in y_pred]"
      ],
      "metadata": {
        "id": "hPwap0sJbAOK"
      },
      "execution_count": 49,
      "outputs": []
    },
    {
      "cell_type": "code",
      "metadata": {
        "id": "PIUJd2WGs4w0",
        "colab": {
          "base_uri": "https://localhost:8080/"
        },
        "outputId": "1443cd10-c1dc-43b6-8b19-a25561ce9a2e"
      },
      "source": [
        "# Confusion matrix\n",
        "\n",
        "from sklearn.metrics import confusion_matrix, accuracy_score\n",
        "cm = confusion_matrix(y_test, y_pred)\n",
        "print(cm)"
      ],
      "execution_count": 50,
      "outputs": [
        {
          "output_type": "stream",
          "name": "stdout",
          "text": [
            "[[778  17  38  19  24   4  14   8  51  47]\n",
            " [ 10 896   0   8   2   3   7   4   7  63]\n",
            " [ 54   3 552  67 120  68 102  19   8   7]\n",
            " [ 23  17  31 541  96 172  71  24   7  18]\n",
            " [ 13   5  21  33 810  26  51  32   7   2]\n",
            " [ 11   7  27 150  71 655  30  34   2  13]\n",
            " [  9   6  13  40  53  17 855   2   5   0]\n",
            " [  7   4  18  36  90  65   9 751   2  18]\n",
            " [ 55  37   7  12   7   5   6   1 840  30]\n",
            " [ 17  72   2   9   4   7   5   2  13 869]]\n"
          ]
        }
      ]
    },
    {
      "cell_type": "code",
      "metadata": {
        "id": "_bxCHUlptvt3",
        "colab": {
          "base_uri": "https://localhost:8080/"
        },
        "outputId": "2d3c2f93-54f5-4d64-e5e1-7c6ea918f090"
      },
      "source": [
        "acc_cm = accuracy_score(y_test, y_pred)\n",
        "print(acc_cm)"
      ],
      "execution_count": 51,
      "outputs": [
        {
          "output_type": "stream",
          "name": "stdout",
          "text": [
            "0.7547\n"
          ]
        }
      ]
    },
    {
      "cell_type": "code",
      "source": [
        "model.save(\"atividade_final.h5\")"
      ],
      "metadata": {
        "id": "xv_6DU1JaX3M"
      },
      "execution_count": 52,
      "outputs": []
    }
  ]
}